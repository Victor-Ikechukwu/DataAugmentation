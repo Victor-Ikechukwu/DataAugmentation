{
 "cells": [
  {
   "cell_type": "markdown",
   "metadata": {
    "ExecuteTime": {
     "end_time": "2021-04-12T06:54:37.513333Z",
     "start_time": "2021-04-12T06:54:37.497345Z"
    }
   },
   "source": [
    "# A Demo on Data Augmentation on images using TensorFlow's Keras API."
   ]
  },
  {
   "cell_type": "raw",
   "metadata": {},
   "source": [
    "Data augmentation in data analysis are techniques used to increase the amount of data by adding slightly modified copies of already existing data or newly created synthetic data from existing data. It acts as a regularizer and helps reduce overfitting when training a machine learning model. It is closely related to oversampling in data analysis.\n",
    "\n",
    "Data augmentation is a technique used to create more examples, artiﬁcially, from an existing dataset. This is useful if your dataset is small and you want to increase the number of examples. Data augmentation can often solve over-fitting so that your model generalizes well after training. For images, a variety of augmentation can be applied to increase the number of examples.\n",
    "\n",
    "It includes:\n",
    "- Rotation\n",
    "- Shifting\n",
    "- Cropping\n",
    "- Flipping\n",
    "- Zooming in & out\n",
    "- Varying the colour etc\n",
    "\n",
    "\n",
    "USEFUL RESOURCES:\n",
    "\n",
    "https://www.coursera.org/projects/data-augmentation-keras (A self-guided project)\n",
    "\n",
    "https://nanonets.com/blog/data-augmentation-how-to-use-deep-learning-when-you-have-limited-data-part-2/\n",
    "\n",
    "https://www.mygreatlearning.com/blog/understanding-data-augmentation/\n",
    "\n",
    "https://www.tensorflow.org/tutorials/images/data_augmentation\n",
    "\n",
    "https://machinelearningmastery.com/how-to-configure-image-data-augmentation-when-training-deep-learning-neural-networks/"
   ]
  },
  {
   "cell_type": "markdown",
   "metadata": {},
   "source": [
    "# Part 1 of 3"
   ]
  },
  {
   "cell_type": "code",
   "execution_count": 1,
   "metadata": {
    "ExecuteTime": {
     "end_time": "2022-05-19T10:28:26.431585Z",
     "start_time": "2022-05-19T10:28:10.682153Z"
    }
   },
   "outputs": [
    {
     "name": "stderr",
     "output_type": "stream",
     "text": [
      "Using TensorFlow backend.\n"
     ]
    }
   ],
   "source": [
    "#Data Augmentation on a Single Image: Part 1 of 3\n",
    "#!pip install keras\n",
    "from keras.preprocessing.image import ImageDataGenerator\n",
    "from skimage import io # STEP 1: Import all necessary libraries"
   ]
  },
  {
   "cell_type": "code",
   "execution_count": 2,
   "metadata": {
    "ExecuteTime": {
     "end_time": "2022-05-19T10:28:35.479308Z",
     "start_time": "2022-05-19T10:28:35.460360Z"
    }
   },
   "outputs": [],
   "source": [
    "# STEP 2: Create an instance (variable) of the data generator with internal arguments \n",
    "from keras.preprocessing.image import ImageDataGenerator\n",
    "from skimage import io # STEP 1: Import all necessary libraries\n",
    "\n",
    "datagen = ImageDataGenerator(        \n",
    "            rotation_range=45, # Randomly rotate the image between 0 and 45 degrees\n",
    "            width_shift_range=0.2, # Shift the image along X-axis by 20% \n",
    "            height_shift_range=0.2, # and Y-axis by 20%    \n",
    "            shear_range=0.2, # Shear transformation slants the shape of the image      \n",
    "            zoom_range=0.2, # A zoom less than 1.0 magnifies the image, while a zoom greater than 1.0 zooms out of the image.     \n",
    "            horizontal_flip=True, #The generator will generate images, which on a random basis, will be horizontally flipped.        \n",
    "            fill_mode='constant', cval=125) #The constant value is specified by the cval argument."
   ]
  },
  {
   "cell_type": "code",
   "execution_count": 3,
   "metadata": {
    "ExecuteTime": {
     "end_time": "2022-05-19T10:28:39.418619Z",
     "start_time": "2022-05-19T10:28:39.372743Z"
    }
   },
   "outputs": [],
   "source": [
    "#Step 3: Reads the image, Using SINGLE Image to demonstrate data augmentation\n",
    "x = io.imread('cxr1.jpeg') "
   ]
  },
  {
   "cell_type": "code",
   "execution_count": 4,
   "metadata": {
    "ExecuteTime": {
     "end_time": "2022-05-19T10:28:41.467163Z",
     "start_time": "2022-05-19T10:28:41.448213Z"
    }
   },
   "outputs": [
    {
     "data": {
      "text/plain": [
       "(226, 223, 3)"
      ]
     },
     "execution_count": 4,
     "metadata": {},
     "output_type": "execute_result"
    }
   ],
   "source": [
    "x.shape "
   ]
  },
  {
   "cell_type": "code",
   "execution_count": 5,
   "metadata": {
    "ExecuteTime": {
     "end_time": "2022-05-19T10:28:41.901516Z",
     "start_time": "2022-05-19T10:28:41.892538Z"
    }
   },
   "outputs": [],
   "source": [
    "x = x.reshape((1, ) + x.shape) # Reshapes the images into ......"
   ]
  },
  {
   "cell_type": "code",
   "execution_count": 6,
   "metadata": {
    "ExecuteTime": {
     "end_time": "2022-05-19T10:28:42.806814Z",
     "start_time": "2022-05-19T10:28:42.798835Z"
    }
   },
   "outputs": [
    {
     "data": {
      "text/plain": [
       "(1, 226, 223, 3)"
      ]
     },
     "execution_count": 6,
     "metadata": {},
     "output_type": "execute_result"
    }
   ],
   "source": [
    "x.shape"
   ]
  },
  {
   "cell_type": "code",
   "execution_count": 7,
   "metadata": {
    "ExecuteTime": {
     "end_time": "2022-05-19T10:29:34.976942Z",
     "start_time": "2022-05-19T10:29:34.552542Z"
    }
   },
   "outputs": [],
   "source": [
    "i = 0\n",
    "for batch in datagen.flow(x, batch_size=16,\n",
    "                          save_to_dir='single_aug',\n",
    "                          save_prefix='aug',\n",
    "                          save_format='png'):    \n",
    "    i +=1\n",
    "    if i > 20: # Epochs\n",
    "        break"
   ]
  },
  {
   "cell_type": "markdown",
   "metadata": {},
   "source": [
    "## Data Augmentation on Multiple Images"
   ]
  },
  {
   "cell_type": "code",
   "execution_count": 8,
   "metadata": {
    "ExecuteTime": {
     "end_time": "2022-05-19T10:29:57.194832Z",
     "start_time": "2022-05-19T10:29:57.191825Z"
    }
   },
   "outputs": [],
   "source": [
    "#Part 2 0f 3: Using Multiple Images to demonstrate data augmentation"
   ]
  },
  {
   "cell_type": "code",
   "execution_count": 9,
   "metadata": {
    "ExecuteTime": {
     "end_time": "2022-05-19T10:29:58.379817Z",
     "start_time": "2022-05-19T10:29:58.213034Z"
    }
   },
   "outputs": [],
   "source": [
    "from tensorflow.keras.preprocessing.image import ImageDataGenerator\n",
    "from matplotlib.pyplot import imread, imshow, subplots, show\n",
    "import numpy as np\n",
    "import os\n",
    "from PIL import Image\n",
    "from skimage import io"
   ]
  },
  {
   "cell_type": "code",
   "execution_count": 10,
   "metadata": {
    "ExecuteTime": {
     "end_time": "2022-05-19T10:29:59.467679Z",
     "start_time": "2022-05-19T10:29:59.463689Z"
    }
   },
   "outputs": [],
   "source": [
    "datagen = ImageDataGenerator(        \n",
    "            rotation_range=45,\n",
    "            width_shift_range=0.3,  \n",
    "            height_shift_range=0.3,    \n",
    "            shear_range=0.25,        \n",
    "            zoom_range=0.25,        \n",
    "            horizontal_flip=True,         \n",
    "            fill_mode='reflect')"
   ]
  },
  {
   "cell_type": "code",
   "execution_count": 11,
   "metadata": {
    "ExecuteTime": {
     "end_time": "2022-05-19T10:30:33.848866Z",
     "start_time": "2022-05-19T10:30:33.834903Z"
    }
   },
   "outputs": [],
   "source": [
    "image_directory = 'multi_images/'\n",
    "SIZE = 256\n",
    "dataset = []"
   ]
  },
  {
   "cell_type": "code",
   "execution_count": 12,
   "metadata": {
    "ExecuteTime": {
     "end_time": "2022-05-19T10:30:39.184035Z",
     "start_time": "2022-05-19T10:30:39.118179Z"
    }
   },
   "outputs": [],
   "source": [
    "my_images = os.listdir(image_directory)\n",
    "for i, image_name in enumerate(my_images):    \n",
    "   if (image_name.split('.')[1] == 'jpg'):        \n",
    "       image = io.imread(image_directory + image_name)        \n",
    "       image = Image.fromarray(image, 'RGB')        \n",
    "       image = image.resize((SIZE,SIZE)) \n",
    "       dataset.append(np.array(image))"
   ]
  },
  {
   "cell_type": "code",
   "execution_count": 13,
   "metadata": {
    "ExecuteTime": {
     "end_time": "2022-05-19T10:31:12.232506Z",
     "start_time": "2022-05-19T10:31:11.070132Z"
    }
   },
   "outputs": [],
   "source": [
    "x = np.array(dataset)\n",
    "i = 0\n",
    "for batch in datagen.flow(x, batch_size=20,\n",
    "                          save_to_dir='multi_augmented',\n",
    "                          save_prefix='aug',\n",
    "                          save_format='png'):\n",
    "    i+=1\n",
    "    if i > 19: #Epochs\n",
    "        break"
   ]
  },
  {
   "cell_type": "code",
   "execution_count": 16,
   "metadata": {
    "ExecuteTime": {
     "end_time": "2022-05-19T10:33:09.242702Z",
     "start_time": "2022-05-19T10:33:09.238713Z"
    }
   },
   "outputs": [],
   "source": [
    "# Part 3 of . Using multi-class to demonstrate the data augmentation process"
   ]
  },
  {
   "cell_type": "raw",
   "metadata": {},
   "source": [
    "CASE STUDY of CIFAR 10 DATASET:\n",
    "\n",
    "Multi-class is what you would expect in most classes. Here, each image is saved according to their classes as a representation of real world data. Using \"datagen.flow_from_directory\", read all images inside sub-folders separately. Such as, If you have classes like aeroplanes, dogs, cars, deer etc. then put all those images in their corresponding folders."
   ]
  },
  {
   "cell_type": "code",
   "execution_count": 17,
   "metadata": {
    "ExecuteTime": {
     "end_time": "2022-05-19T10:33:19.741050Z",
     "start_time": "2022-05-19T10:33:19.733071Z"
    }
   },
   "outputs": [],
   "source": [
    "from tensorflow.keras.preprocessing.image import ImageDataGenerator\n",
    "from matplotlib.pyplot import imread, imshow, subplots, show\n",
    "import numpy as np\n",
    "import os\n",
    "from PIL import Image\n",
    "from skimage import io"
   ]
  },
  {
   "cell_type": "code",
   "execution_count": 18,
   "metadata": {
    "ExecuteTime": {
     "end_time": "2022-05-19T10:33:52.902919Z",
     "start_time": "2022-05-19T10:33:43.836848Z"
    }
   },
   "outputs": [
    {
     "name": "stdout",
     "output_type": "stream",
     "text": [
      "Found 9 images belonging to 3 classes.\n"
     ]
    }
   ],
   "source": [
    "i = 0\n",
    "for batch in datagen.flow_from_directory(directory='multiclass/',\n",
    "                                          batch_size=16,\n",
    "                                          target_size=(256, 256),   \n",
    "                                          color_mode=\"rgb\",     \n",
    "                                          save_to_dir='multiclass_augmented',   \n",
    "                                          save_prefix='aug',    \n",
    "                                          save_format='png'):    \n",
    "   i += 1    \n",
    "   if i > 29:        \n",
    "     break"
   ]
  },
  {
   "cell_type": "code",
   "execution_count": null,
   "metadata": {},
   "outputs": [],
   "source": []
  }
 ],
 "metadata": {
  "hide_input": false,
  "kernelspec": {
   "display_name": "Python 3 (ipykernel)",
   "language": "python",
   "name": "python3"
  },
  "language_info": {
   "codemirror_mode": {
    "name": "ipython",
    "version": 3
   },
   "file_extension": ".py",
   "mimetype": "text/x-python",
   "name": "python",
   "nbconvert_exporter": "python",
   "pygments_lexer": "ipython3",
   "version": "3.9.7"
  },
  "nbTranslate": {
   "displayLangs": [
    "*"
   ],
   "hotkey": "alt-t",
   "langInMainMenu": true,
   "sourceLang": "en",
   "targetLang": "fr",
   "useGoogleTranslate": true
  },
  "toc": {
   "base_numbering": 1,
   "nav_menu": {},
   "number_sections": true,
   "sideBar": true,
   "skip_h1_title": false,
   "title_cell": "Table of Contents",
   "title_sidebar": "Contents",
   "toc_cell": false,
   "toc_position": {},
   "toc_section_display": true,
   "toc_window_display": false
  },
  "varInspector": {
   "cols": {
    "lenName": 16,
    "lenType": 16,
    "lenVar": 40
   },
   "kernels_config": {
    "python": {
     "delete_cmd_postfix": "",
     "delete_cmd_prefix": "del ",
     "library": "var_list.py",
     "varRefreshCmd": "print(var_dic_list())"
    },
    "r": {
     "delete_cmd_postfix": ") ",
     "delete_cmd_prefix": "rm(",
     "library": "var_list.r",
     "varRefreshCmd": "cat(var_dic_list()) "
    }
   },
   "types_to_exclude": [
    "module",
    "function",
    "builtin_function_or_method",
    "instance",
    "_Feature"
   ],
   "window_display": false
  }
 },
 "nbformat": 4,
 "nbformat_minor": 4
}
